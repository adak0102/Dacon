{
 "cells": [
  {
   "cell_type": "markdown",
   "metadata": {},
   "source": [
    "# 데이터 탐색하기\n",
    "---"
   ]
  },
  {
   "cell_type": "markdown",
   "metadata": {},
   "source": [
    "<br>\n",
    "\n",
    "## 라이브러리"
   ]
  },
  {
   "cell_type": "code",
   "execution_count": 1,
   "metadata": {},
   "outputs": [],
   "source": [
    "import pandas as pd\n",
    "import numpy as np\n",
    "\n",
    "# 시각화\n",
    "import matplotlib.pyplot as plt\n",
    "import seaborn as sns\n",
    "from matplotlib import font_manager, rc\n",
    "sns.set(font=\"THEGaeideuk\",rc={\"axes.unicode_minus\":False},style='white')"
   ]
  },
  {
   "cell_type": "markdown",
   "metadata": {},
   "source": [
    "<br>\n",
    "\n",
    "## 데이터 불러오기 "
   ]
  },
  {
   "cell_type": "code",
   "execution_count": 2,
   "metadata": {},
   "outputs": [
    {
     "data": {
      "text/html": [
       "<div>\n",
       "<style scoped>\n",
       "    .dataframe tbody tr th:only-of-type {\n",
       "        vertical-align: middle;\n",
       "    }\n",
       "\n",
       "    .dataframe tbody tr th {\n",
       "        vertical-align: top;\n",
       "    }\n",
       "\n",
       "    .dataframe thead th {\n",
       "        text-align: right;\n",
       "    }\n",
       "</style>\n",
       "<table border=\"1\" class=\"dataframe\">\n",
       "  <thead>\n",
       "    <tr style=\"text-align: right;\">\n",
       "      <th></th>\n",
       "      <th>user_id</th>\n",
       "      <th>time</th>\n",
       "      <th>model_nm</th>\n",
       "      <th>fwver</th>\n",
       "      <th>errtype</th>\n",
       "      <th>errcode</th>\n",
       "    </tr>\n",
       "  </thead>\n",
       "  <tbody>\n",
       "    <tr>\n",
       "      <th>0</th>\n",
       "      <td>10000</td>\n",
       "      <td>20201101025616</td>\n",
       "      <td>model_3</td>\n",
       "      <td>05.15.2138</td>\n",
       "      <td>15</td>\n",
       "      <td>1</td>\n",
       "    </tr>\n",
       "    <tr>\n",
       "      <th>1</th>\n",
       "      <td>10000</td>\n",
       "      <td>20201101030309</td>\n",
       "      <td>model_3</td>\n",
       "      <td>05.15.2138</td>\n",
       "      <td>12</td>\n",
       "      <td>1</td>\n",
       "    </tr>\n",
       "    <tr>\n",
       "      <th>2</th>\n",
       "      <td>10000</td>\n",
       "      <td>20201101030309</td>\n",
       "      <td>model_3</td>\n",
       "      <td>05.15.2138</td>\n",
       "      <td>11</td>\n",
       "      <td>1</td>\n",
       "    </tr>\n",
       "    <tr>\n",
       "      <th>3</th>\n",
       "      <td>10000</td>\n",
       "      <td>20201101050514</td>\n",
       "      <td>model_3</td>\n",
       "      <td>05.15.2138</td>\n",
       "      <td>16</td>\n",
       "      <td>1</td>\n",
       "    </tr>\n",
       "    <tr>\n",
       "      <th>4</th>\n",
       "      <td>10000</td>\n",
       "      <td>20201101050515</td>\n",
       "      <td>model_3</td>\n",
       "      <td>05.15.2138</td>\n",
       "      <td>4</td>\n",
       "      <td>0</td>\n",
       "    </tr>\n",
       "    <tr>\n",
       "      <th>...</th>\n",
       "      <td>...</td>\n",
       "      <td>...</td>\n",
       "      <td>...</td>\n",
       "      <td>...</td>\n",
       "      <td>...</td>\n",
       "      <td>...</td>\n",
       "    </tr>\n",
       "    <tr>\n",
       "      <th>16554658</th>\n",
       "      <td>24999</td>\n",
       "      <td>20201130163051</td>\n",
       "      <td>model_3</td>\n",
       "      <td>05.15.2138</td>\n",
       "      <td>15</td>\n",
       "      <td>1</td>\n",
       "    </tr>\n",
       "    <tr>\n",
       "      <th>16554659</th>\n",
       "      <td>24999</td>\n",
       "      <td>20201130172625</td>\n",
       "      <td>model_3</td>\n",
       "      <td>05.15.2138</td>\n",
       "      <td>16</td>\n",
       "      <td>1</td>\n",
       "    </tr>\n",
       "    <tr>\n",
       "      <th>16554660</th>\n",
       "      <td>24999</td>\n",
       "      <td>20201130172625</td>\n",
       "      <td>model_3</td>\n",
       "      <td>05.15.2138</td>\n",
       "      <td>4</td>\n",
       "      <td>0</td>\n",
       "    </tr>\n",
       "    <tr>\n",
       "      <th>16554661</th>\n",
       "      <td>24999</td>\n",
       "      <td>20201130172631</td>\n",
       "      <td>model_3</td>\n",
       "      <td>05.15.2138</td>\n",
       "      <td>4</td>\n",
       "      <td>0</td>\n",
       "    </tr>\n",
       "    <tr>\n",
       "      <th>16554662</th>\n",
       "      <td>24999</td>\n",
       "      <td>20201130210625</td>\n",
       "      <td>model_3</td>\n",
       "      <td>05.15.2138</td>\n",
       "      <td>15</td>\n",
       "      <td>1</td>\n",
       "    </tr>\n",
       "  </tbody>\n",
       "</table>\n",
       "<p>16554663 rows × 6 columns</p>\n",
       "</div>"
      ],
      "text/plain": [
       "          user_id            time model_nm       fwver  errtype errcode\n",
       "0           10000  20201101025616  model_3  05.15.2138       15       1\n",
       "1           10000  20201101030309  model_3  05.15.2138       12       1\n",
       "2           10000  20201101030309  model_3  05.15.2138       11       1\n",
       "3           10000  20201101050514  model_3  05.15.2138       16       1\n",
       "4           10000  20201101050515  model_3  05.15.2138        4       0\n",
       "...           ...             ...      ...         ...      ...     ...\n",
       "16554658    24999  20201130163051  model_3  05.15.2138       15       1\n",
       "16554659    24999  20201130172625  model_3  05.15.2138       16       1\n",
       "16554660    24999  20201130172625  model_3  05.15.2138        4       0\n",
       "16554661    24999  20201130172631  model_3  05.15.2138        4       0\n",
       "16554662    24999  20201130210625  model_3  05.15.2138       15       1\n",
       "\n",
       "[16554663 rows x 6 columns]"
      ]
     },
     "execution_count": 2,
     "metadata": {},
     "output_type": "execute_result"
    }
   ],
   "source": [
    "# 시스템에 발생한 에러 로그\n",
    "err=pd.read_csv('./data/train_err_data.csv')\n",
    "err"
   ]
  },
  {
   "cell_type": "code",
   "execution_count": 120,
   "metadata": {},
   "outputs": [
    {
     "data": {
      "text/plain": [
       "array(['05.15.2138', '04.33.1185', '04.33.1261', '04.22.1750',\n",
       "       '04.22.1778', '04.16.3553', '04.33.1149', '04.16.3571',\n",
       "       '05.66.3237', '05.66.3571', '03.11.1149', '04.22.1684',\n",
       "       '03.11.1167', '04.82.1684', '04.82.1778', '04.33.1171',\n",
       "       '04.73.2237', '10', '04.82.1730', '04.73.2571', '8.5.3',\n",
       "       '04.22.1666', '03.11.1141', '05.15.2120', '04.33.1125',\n",
       "       '04.16.3439', '04.22.1442', '04.33.1095', '04.16.3569',\n",
       "       '05.15.2090', '05.15.3104', '05.15.2122', '04.22.1656',\n",
       "       '04.16.2641', '05.15.2114', '04.16.3345', '05.15.2092'],\n",
       "      dtype=object)"
      ]
     },
     "execution_count": 120,
     "metadata": {},
     "output_type": "execute_result"
    }
   ],
   "source": [
    "err['fwver'].unique()"
   ]
  },
  {
   "cell_type": "code",
   "execution_count": 87,
   "metadata": {},
   "outputs": [],
   "source": [
    "err['time']=pd.to_datetime(err['time'],format='%Y%m%d%H%M%S')"
   ]
  },
  {
   "cell_type": "code",
   "execution_count": 95,
   "metadata": {},
   "outputs": [
    {
     "data": {
      "text/plain": [
       "0    2020-11-01 02:00:00\n",
       "1    2020-11-01 03:00:00\n",
       "2    2020-11-01 03:00:00\n",
       "3    2020-11-01 05:00:00\n",
       "4    2020-11-01 05:00:00\n",
       "5    2020-11-01 05:00:00\n",
       "6    2020-11-01 05:00:00\n",
       "7    2020-11-01 06:00:00\n",
       "8    2020-11-01 17:00:00\n",
       "9    2020-11-01 17:00:00\n",
       "10   2020-11-01 17:00:00\n",
       "Name: time, dtype: datetime64[ns]"
      ]
     },
     "execution_count": 95,
     "metadata": {},
     "output_type": "execute_result"
    }
   ],
   "source": [
    "# 시간 단위로 내릴려면...\n",
    "err.loc[0:10]['time'].dt.floor('H')"
   ]
  },
  {
   "cell_type": "code",
   "execution_count": 119,
   "metadata": {},
   "outputs": [
    {
     "data": {
      "text/plain": [
       "array(['04.33.1171', '10', '04.82.1730', '8.5.3', '03.11.1141',\n",
       "       '04.33.1095', '04.16.3569', '05.15.2090', '05.15.3104',\n",
       "       '04.16.2641', '05.15.2092'], dtype=object)"
      ]
     },
     "execution_count": 119,
     "metadata": {},
     "output_type": "execute_result"
    }
   ],
   "source": [
    "a=err['fwver'].unique()\n",
    "b=quality['fwver'].unique()\n",
    "a[~np.isin(a,b)]"
   ]
  },
  {
   "cell_type": "code",
   "execution_count": 118,
   "metadata": {},
   "outputs": [
    {
     "name": "stdout",
     "output_type": "stream",
     "text": [
      "['05.15.2138' '04.33.1185' '04.33.1261' '04.22.1750' '04.22.1778'\n",
      " '04.16.3553' '04.33.1149' '04.16.3571' '05.66.3237' '05.66.3571'\n",
      " '03.11.1149' '04.22.1684' '03.11.1167' '04.82.1684' '04.82.1778'\n",
      " '04.33.1171' '04.73.2237' '10' '04.82.1730' '04.73.2571' '8.5.3'\n",
      " '04.22.1666' '03.11.1141' '05.15.2120' '04.33.1125' '04.16.3439'\n",
      " '04.22.1442' '04.33.1095' '04.16.3569' '05.15.2090' '05.15.3104'\n",
      " '05.15.2122' '04.22.1656' '04.16.2641' '05.15.2114' '04.16.3345'\n",
      " '05.15.2092']\n",
      "['05.15.2138' '04.22.1750' '04.16.3553' '04.33.1261' '04.22.1778'\n",
      " '04.33.1185' '04.16.3571' '05.66.3571' '03.11.1149' '03.11.1167'\n",
      " '04.82.1684' '04.82.1778' '04.33.1149' '0' '05.66.3237' '04.73.2237'\n",
      " '09.17.1431' '04.22.1684' '05.15.2120' '04.33.1125' '05.15.2122'\n",
      " '04.22.1666' '04.22.1656' '04.16.3439' '04.73.2571' '05.15.2114'\n",
      " '04.16.3345' '04.22.1442']\n"
     ]
    }
   ],
   "source": [
    "print(a)\n",
    "print(b)"
   ]
  },
  {
   "cell_type": "code",
   "execution_count": 98,
   "metadata": {},
   "outputs": [],
   "source": [
    "tmp=err['time'].value_counts()[err['time'].value_counts()>=100].index\n",
    "tmp=tmp.map(lambda x: x.floor('H'))"
   ]
  },
  {
   "cell_type": "code",
   "execution_count": 104,
   "metadata": {},
   "outputs": [],
   "source": [
    "tmp_df=quality[quality['time'].isin(tmp)]"
   ]
  },
  {
   "cell_type": "code",
   "execution_count": 115,
   "metadata": {},
   "outputs": [
    {
     "data": {
      "text/plain": [
       "(array([1308.,    0.,    0.,    0.,    0.,    0.,    0.,    0.,    0.,\n",
       "          24.]),\n",
       " array([0. , 0.2, 0.4, 0.6, 0.8, 1. , 1.2, 1.4, 1.6, 1.8, 2. ]),\n",
       " <BarContainer object of 10 artists>)"
      ]
     },
     "execution_count": 115,
     "metadata": {},
     "output_type": "execute_result"
    },
    {
     "data": {
      "image/png": "[encoded data removed]",
      "text/plain": [
       "<Figure size 432x288 with 1 Axes>"
      ]
     },
     "metadata": {},
     "output_type": "display_data"
    }
   ],
   "source": [
    "plt.hist(tmp_df['quality_12'],color = \"lightgrey\", edgecolor = \"black\")"
   ]
  },
  {
   "cell_type": "code",
   "execution_count": 80,
   "metadata": {},
   "outputs": [
    {
     "data": {
      "text/html": [
       "<div>\n",
       "<style scoped>\n",
       "    .dataframe tbody tr th:only-of-type {\n",
       "        vertical-align: middle;\n",
       "    }\n",
       "\n",
       "    .dataframe tbody tr th {\n",
       "        vertical-align: top;\n",
       "    }\n",
       "\n",
       "    .dataframe thead th {\n",
       "        text-align: right;\n",
       "    }\n",
       "</style>\n",
       "<table border=\"1\" class=\"dataframe\">\n",
       "  <thead>\n",
       "    <tr style=\"text-align: right;\">\n",
       "      <th></th>\n",
       "      <th>time</th>\n",
       "      <th>model_nm</th>\n",
       "      <th>fwver</th>\n",
       "      <th>errtype</th>\n",
       "      <th>errcode</th>\n",
       "    </tr>\n",
       "    <tr>\n",
       "      <th>user_id</th>\n",
       "      <th></th>\n",
       "      <th></th>\n",
       "      <th></th>\n",
       "      <th></th>\n",
       "      <th></th>\n",
       "    </tr>\n",
       "  </thead>\n",
       "  <tbody>\n",
       "    <tr>\n",
       "      <th>15605</th>\n",
       "      <td>1</td>\n",
       "      <td>1</td>\n",
       "      <td>1</td>\n",
       "      <td>1</td>\n",
       "      <td>1</td>\n",
       "    </tr>\n",
       "    <tr>\n",
       "      <th>21076</th>\n",
       "      <td>1</td>\n",
       "      <td>1</td>\n",
       "      <td>1</td>\n",
       "      <td>1</td>\n",
       "      <td>1</td>\n",
       "    </tr>\n",
       "    <tr>\n",
       "      <th>12367</th>\n",
       "      <td>1</td>\n",
       "      <td>1</td>\n",
       "      <td>1</td>\n",
       "      <td>1</td>\n",
       "      <td>1</td>\n",
       "    </tr>\n",
       "    <tr>\n",
       "      <th>12470</th>\n",
       "      <td>1</td>\n",
       "      <td>1</td>\n",
       "      <td>1</td>\n",
       "      <td>1</td>\n",
       "      <td>1</td>\n",
       "    </tr>\n",
       "    <tr>\n",
       "      <th>13525</th>\n",
       "      <td>1</td>\n",
       "      <td>1</td>\n",
       "      <td>1</td>\n",
       "      <td>1</td>\n",
       "      <td>1</td>\n",
       "    </tr>\n",
       "    <tr>\n",
       "      <th>...</th>\n",
       "      <td>...</td>\n",
       "      <td>...</td>\n",
       "      <td>...</td>\n",
       "      <td>...</td>\n",
       "      <td>...</td>\n",
       "    </tr>\n",
       "    <tr>\n",
       "      <th>11041</th>\n",
       "      <td>66093</td>\n",
       "      <td>66093</td>\n",
       "      <td>66093</td>\n",
       "      <td>66093</td>\n",
       "      <td>66093</td>\n",
       "    </tr>\n",
       "    <tr>\n",
       "      <th>20352</th>\n",
       "      <td>83680</td>\n",
       "      <td>83680</td>\n",
       "      <td>83680</td>\n",
       "      <td>83680</td>\n",
       "      <td>83680</td>\n",
       "    </tr>\n",
       "    <tr>\n",
       "      <th>15570</th>\n",
       "      <td>175730</td>\n",
       "      <td>175730</td>\n",
       "      <td>175730</td>\n",
       "      <td>175730</td>\n",
       "      <td>175730</td>\n",
       "    </tr>\n",
       "    <tr>\n",
       "      <th>20546</th>\n",
       "      <td>195538</td>\n",
       "      <td>195538</td>\n",
       "      <td>195538</td>\n",
       "      <td>195538</td>\n",
       "      <td>195538</td>\n",
       "    </tr>\n",
       "    <tr>\n",
       "      <th>24934</th>\n",
       "      <td>222186</td>\n",
       "      <td>222186</td>\n",
       "      <td>222186</td>\n",
       "      <td>222186</td>\n",
       "      <td>222186</td>\n",
       "    </tr>\n",
       "  </tbody>\n",
       "</table>\n",
       "<p>15000 rows × 5 columns</p>\n",
       "</div>"
      ],
      "text/plain": [
       "           time  model_nm   fwver  errtype  errcode\n",
       "user_id                                            \n",
       "15605         1         1       1        1        1\n",
       "21076         1         1       1        1        1\n",
       "12367         1         1       1        1        1\n",
       "12470         1         1       1        1        1\n",
       "13525         1         1       1        1        1\n",
       "...         ...       ...     ...      ...      ...\n",
       "11041     66093     66093   66093    66093    66093\n",
       "20352     83680     83680   83680    83680    83680\n",
       "15570    175730    175730  175730   175730   175730\n",
       "20546    195538    195538  195538   195538   195538\n",
       "24934    222186    222186  222186   222186   222186\n",
       "\n",
       "[15000 rows x 5 columns]"
      ]
     },
     "execution_count": 80,
     "metadata": {},
     "output_type": "execute_result"
    }
   ],
   "source": [
    "err.groupby(['user_id']).count().sort_values(by='time')"
   ]
  },
  {
   "cell_type": "code",
   "execution_count": 3,
   "metadata": {},
   "outputs": [
    {
     "name": "stdout",
     "output_type": "stream",
     "text": [
      "<class 'pandas.core.frame.DataFrame'>\n",
      "RangeIndex: 16554663 entries, 0 to 16554662\n",
      "Data columns (total 6 columns):\n",
      " #   Column    Dtype \n",
      "---  ------    ----- \n",
      " 0   user_id   int64 \n",
      " 1   time      int64 \n",
      " 2   model_nm  object\n",
      " 3   fwver     object\n",
      " 4   errtype   int64 \n",
      " 5   errcode   object\n",
      "dtypes: int64(3), object(3)\n",
      "memory usage: 757.8+ MB\n"
     ]
    }
   ],
   "source": [
    "err.info()"
   ]
  },
  {
   "cell_type": "code",
   "execution_count": 4,
   "metadata": {},
   "outputs": [
    {
     "data": {
      "text/plain": [
       "user_id     0\n",
       "time        0\n",
       "model_nm    0\n",
       "fwver       0\n",
       "errtype     0\n",
       "errcode     1\n",
       "dtype: int64"
      ]
     },
     "execution_count": 4,
     "metadata": {},
     "output_type": "execute_result"
    }
   ],
   "source": [
    "err.isna().sum()"
   ]
  },
  {
   "cell_type": "markdown",
   "metadata": {},
   "source": [
    "- 에러 데이터에서는 **errcode** 컬럼만 NaN값이 하나 존재"
   ]
  },
  {
   "cell_type": "code",
   "execution_count": 5,
   "metadata": {},
   "outputs": [
    {
     "data": {
      "text/html": [
       "<div>\n",
       "<style scoped>\n",
       "    .dataframe tbody tr th:only-of-type {\n",
       "        vertical-align: middle;\n",
       "    }\n",
       "\n",
       "    .dataframe tbody tr th {\n",
       "        vertical-align: top;\n",
       "    }\n",
       "\n",
       "    .dataframe thead th {\n",
       "        text-align: right;\n",
       "    }\n",
       "</style>\n",
       "<table border=\"1\" class=\"dataframe\">\n",
       "  <thead>\n",
       "    <tr style=\"text-align: right;\">\n",
       "      <th></th>\n",
       "      <th>user_id</th>\n",
       "      <th>time</th>\n",
       "      <th>model_nm</th>\n",
       "      <th>fwver</th>\n",
       "      <th>errtype</th>\n",
       "      <th>errcode</th>\n",
       "    </tr>\n",
       "  </thead>\n",
       "  <tbody>\n",
       "    <tr>\n",
       "      <th>3825744</th>\n",
       "      <td>13639</td>\n",
       "      <td>20201121191718</td>\n",
       "      <td>model_2</td>\n",
       "      <td>04.33.1261</td>\n",
       "      <td>5</td>\n",
       "      <td>NaN</td>\n",
       "    </tr>\n",
       "  </tbody>\n",
       "</table>\n",
       "</div>"
      ],
      "text/plain": [
       "         user_id            time model_nm       fwver  errtype errcode\n",
       "3825744    13639  20201121191718  model_2  04.33.1261        5     NaN"
      ]
     },
     "execution_count": 5,
     "metadata": {},
     "output_type": "execute_result"
    }
   ],
   "source": [
    "err[err['errcode'].isna()]"
   ]
  },
  {
   "cell_type": "markdown",
   "metadata": {},
   "source": [
    "<br>\n",
    "\n",
    "### 각 컬럼별 unique values 보기"
   ]
  },
  {
   "cell_type": "code",
   "execution_count": 6,
   "metadata": {},
   "outputs": [
    {
     "data": {
      "text/plain": [
       "array(['model_3', 'model_2', 'model_0', 'model_1', 'model_7', 'model_4',\n",
       "       'model_5', 'model_8', 'model_6'], dtype=object)"
      ]
     },
     "execution_count": 6,
     "metadata": {},
     "output_type": "execute_result"
    }
   ],
   "source": [
    "# model의 이름\n",
    "err['model_nm'].unique()"
   ]
  },
  {
   "cell_type": "markdown",
   "metadata": {},
   "source": [
    "- 0~8로 총 9개의 모델이 존재"
   ]
  },
  {
   "cell_type": "code",
   "execution_count": 7,
   "metadata": {},
   "outputs": [
    {
     "data": {
      "text/plain": [
       "array(['05.15.2138', '04.33.1185', '04.33.1261', '04.22.1750',\n",
       "       '04.22.1778', '04.16.3553', '04.33.1149', '04.16.3571',\n",
       "       '05.66.3237', '05.66.3571', '03.11.1149', '04.22.1684',\n",
       "       '03.11.1167', '04.82.1684', '04.82.1778', '04.33.1171',\n",
       "       '04.73.2237', '10', '04.82.1730', '04.73.2571', '8.5.3',\n",
       "       '04.22.1666', '03.11.1141', '05.15.2120', '04.33.1125',\n",
       "       '04.16.3439', '04.22.1442', '04.33.1095', '04.16.3569',\n",
       "       '05.15.2090', '05.15.3104', '05.15.2122', '04.22.1656',\n",
       "       '04.16.2641', '05.15.2114', '04.16.3345', '05.15.2092'],\n",
       "      dtype=object)"
      ]
     },
     "execution_count": 7,
     "metadata": {},
     "output_type": "execute_result"
    }
   ],
   "source": [
    "# Firmware Version 데이터\n",
    "err['fwver'].unique()"
   ]
  },
  {
   "cell_type": "markdown",
   "metadata": {},
   "source": [
    "- 여러가지 Firmware Version이 존재"
   ]
  },
  {
   "cell_type": "code",
   "execution_count": 8,
   "metadata": {},
   "outputs": [
    {
     "data": {
      "text/plain": [
       "array([ 1,  2,  3,  4,  5,  6,  7,  8,  9, 10, 11, 12, 13, 14, 15, 16, 17,\n",
       "       18, 19, 20, 21, 22, 23, 24, 25, 26, 27, 28, 30, 31, 32, 33, 34, 35,\n",
       "       36, 37, 38, 39, 40, 41, 42], dtype=int64)"
      ]
     },
     "execution_count": 8,
     "metadata": {},
     "output_type": "execute_result"
    }
   ],
   "source": [
    "# 에러 타입\n",
    "np.sort(err['errtype'].unique())"
   ]
  },
  {
   "cell_type": "markdown",
   "metadata": {},
   "source": [
    "- 에러 타입은 1~42까지 **41개**의 에러 타입이 존재\n",
    "- 29번 type은 존재 X"
   ]
  },
  {
   "cell_type": "code",
   "execution_count": 9,
   "metadata": {},
   "outputs": [
    {
     "data": {
      "text/plain": [
       "2806"
      ]
     },
     "execution_count": 9,
     "metadata": {},
     "output_type": "execute_result"
    }
   ],
   "source": [
    "# 에러 코드\n",
    "len(err['errcode'].unique())"
   ]
  },
  {
   "cell_type": "markdown",
   "metadata": {},
   "source": [
    "- 에러 코드는 2806개가 존재한다."
   ]
  },
  {
   "cell_type": "code",
   "execution_count": 10,
   "metadata": {},
   "outputs": [
    {
     "data": {
      "text/plain": [
       "1                     8906967\n",
       "0                     2599123\n",
       "connection timeout    1835600\n",
       "B-A8002                897863\n",
       "80                     334018\n",
       "                       ...   \n",
       "4514                        1\n",
       "4008                        1\n",
       "3508                        1\n",
       "6663                        1\n",
       "9906                        1\n",
       "Name: errcode, Length: 2805, dtype: int64"
      ]
     },
     "execution_count": 10,
     "metadata": {},
     "output_type": "execute_result"
    }
   ],
   "source": [
    "err['errcode'].value_counts()"
   ]
  },
  {
   "cell_type": "code",
   "execution_count": 11,
   "metadata": {},
   "outputs": [
    {
     "data": {
      "text/plain": [
       "1                               0.538034\n",
       "0                               0.695036\n",
       "connection timeout              0.805917\n",
       "B-A8002                         0.860154\n",
       "80                              0.880330\n",
       "79                              0.900411\n",
       "14                              0.916332\n",
       "active                          0.929575\n",
       "2                               0.939626\n",
       "84                              0.947471\n",
       "85                              0.955188\n",
       "standby                         0.961855\n",
       "NFANDROID2                      0.968145\n",
       "connection fail to establish    0.974243\n",
       "3                               0.979753\n",
       "90                              0.983739\n",
       "89                              0.987654\n",
       "S-61001                         0.989746\n",
       "95                              0.991162\n",
       "94                              0.992498\n",
       "Name: errcode, dtype: float64"
      ]
     },
     "execution_count": 11,
     "metadata": {},
     "output_type": "execute_result"
    }
   ],
   "source": [
    "err['errcode'].value_counts(normalize=True).cumsum()[:20]"
   ]
  },
  {
   "cell_type": "markdown",
   "metadata": {},
   "source": [
    "- **errocode**는 상위 20개의 code가 99%이상 차지한다."
   ]
  },
  {
   "cell_type": "code",
   "execution_count": 12,
   "metadata": {},
   "outputs": [
    {
     "name": "stderr",
     "output_type": "stream",
     "text": [
      "C:\\Users\\won\\anaconda3\\envs\\pydatavenv\\lib\\site-packages\\IPython\\core\\interactiveshell.py:3146: DtypeWarning: Columns (10,11,12) have mixed types.Specify dtype option on import or set low_memory=False.\n",
      "  interactivity=interactivity, compiler=compiler, result=result)\n"
     ]
    },
    {
     "data": {
      "text/html": [
       "<div>\n",
       "<style scoped>\n",
       "    .dataframe tbody tr th:only-of-type {\n",
       "        vertical-align: middle;\n",
       "    }\n",
       "\n",
       "    .dataframe tbody tr th {\n",
       "        vertical-align: top;\n",
       "    }\n",
       "\n",
       "    .dataframe thead th {\n",
       "        text-align: right;\n",
       "    }\n",
       "</style>\n",
       "<table border=\"1\" class=\"dataframe\">\n",
       "  <thead>\n",
       "    <tr style=\"text-align: right;\">\n",
       "      <th></th>\n",
       "      <th>time</th>\n",
       "      <th>user_id</th>\n",
       "      <th>fwver</th>\n",
       "      <th>quality_0</th>\n",
       "      <th>quality_1</th>\n",
       "      <th>quality_2</th>\n",
       "      <th>quality_3</th>\n",
       "      <th>quality_4</th>\n",
       "      <th>quality_5</th>\n",
       "      <th>quality_6</th>\n",
       "      <th>quality_7</th>\n",
       "      <th>quality_8</th>\n",
       "      <th>quality_9</th>\n",
       "      <th>quality_10</th>\n",
       "      <th>quality_11</th>\n",
       "      <th>quality_12</th>\n",
       "    </tr>\n",
       "  </thead>\n",
       "  <tbody>\n",
       "    <tr>\n",
       "      <th>0</th>\n",
       "      <td>20201129090000</td>\n",
       "      <td>10000</td>\n",
       "      <td>05.15.2138</td>\n",
       "      <td>0.0</td>\n",
       "      <td>0</td>\n",
       "      <td>0.0</td>\n",
       "      <td>0</td>\n",
       "      <td>0</td>\n",
       "      <td>0</td>\n",
       "      <td>0</td>\n",
       "      <td>0</td>\n",
       "      <td>0</td>\n",
       "      <td>0</td>\n",
       "      <td>4</td>\n",
       "      <td>0</td>\n",
       "      <td>0</td>\n",
       "    </tr>\n",
       "    <tr>\n",
       "      <th>1</th>\n",
       "      <td>20201129090000</td>\n",
       "      <td>10000</td>\n",
       "      <td>05.15.2138</td>\n",
       "      <td>0.0</td>\n",
       "      <td>0</td>\n",
       "      <td>0.0</td>\n",
       "      <td>0</td>\n",
       "      <td>0</td>\n",
       "      <td>0</td>\n",
       "      <td>0</td>\n",
       "      <td>0</td>\n",
       "      <td>0</td>\n",
       "      <td>0</td>\n",
       "      <td>4</td>\n",
       "      <td>0</td>\n",
       "      <td>0</td>\n",
       "    </tr>\n",
       "    <tr>\n",
       "      <th>2</th>\n",
       "      <td>20201129090000</td>\n",
       "      <td>10000</td>\n",
       "      <td>05.15.2138</td>\n",
       "      <td>0.0</td>\n",
       "      <td>0</td>\n",
       "      <td>0.0</td>\n",
       "      <td>0</td>\n",
       "      <td>0</td>\n",
       "      <td>0</td>\n",
       "      <td>0</td>\n",
       "      <td>0</td>\n",
       "      <td>0</td>\n",
       "      <td>0</td>\n",
       "      <td>4</td>\n",
       "      <td>0</td>\n",
       "      <td>0</td>\n",
       "    </tr>\n",
       "    <tr>\n",
       "      <th>3</th>\n",
       "      <td>20201129090000</td>\n",
       "      <td>10000</td>\n",
       "      <td>05.15.2138</td>\n",
       "      <td>0.0</td>\n",
       "      <td>0</td>\n",
       "      <td>0.0</td>\n",
       "      <td>0</td>\n",
       "      <td>0</td>\n",
       "      <td>0</td>\n",
       "      <td>0</td>\n",
       "      <td>0</td>\n",
       "      <td>0</td>\n",
       "      <td>0</td>\n",
       "      <td>4</td>\n",
       "      <td>0</td>\n",
       "      <td>0</td>\n",
       "    </tr>\n",
       "    <tr>\n",
       "      <th>4</th>\n",
       "      <td>20201129090000</td>\n",
       "      <td>10000</td>\n",
       "      <td>05.15.2138</td>\n",
       "      <td>0.0</td>\n",
       "      <td>0</td>\n",
       "      <td>0.0</td>\n",
       "      <td>0</td>\n",
       "      <td>0</td>\n",
       "      <td>0</td>\n",
       "      <td>0</td>\n",
       "      <td>0</td>\n",
       "      <td>0</td>\n",
       "      <td>0</td>\n",
       "      <td>4</td>\n",
       "      <td>0</td>\n",
       "      <td>0</td>\n",
       "    </tr>\n",
       "    <tr>\n",
       "      <th>...</th>\n",
       "      <td>...</td>\n",
       "      <td>...</td>\n",
       "      <td>...</td>\n",
       "      <td>...</td>\n",
       "      <td>...</td>\n",
       "      <td>...</td>\n",
       "      <td>...</td>\n",
       "      <td>...</td>\n",
       "      <td>...</td>\n",
       "      <td>...</td>\n",
       "      <td>...</td>\n",
       "      <td>...</td>\n",
       "      <td>...</td>\n",
       "      <td>...</td>\n",
       "      <td>...</td>\n",
       "      <td>...</td>\n",
       "    </tr>\n",
       "    <tr>\n",
       "      <th>828619</th>\n",
       "      <td>20201124033000</td>\n",
       "      <td>24997</td>\n",
       "      <td>04.22.1778</td>\n",
       "      <td>0.0</td>\n",
       "      <td>0</td>\n",
       "      <td>0.0</td>\n",
       "      <td>0</td>\n",
       "      <td>0</td>\n",
       "      <td>1</td>\n",
       "      <td>0</td>\n",
       "      <td>0</td>\n",
       "      <td>0</td>\n",
       "      <td>0</td>\n",
       "      <td>17</td>\n",
       "      <td>0</td>\n",
       "      <td>0</td>\n",
       "    </tr>\n",
       "    <tr>\n",
       "      <th>828620</th>\n",
       "      <td>20201124033000</td>\n",
       "      <td>24997</td>\n",
       "      <td>04.22.1778</td>\n",
       "      <td>0.0</td>\n",
       "      <td>0</td>\n",
       "      <td>0.0</td>\n",
       "      <td>0</td>\n",
       "      <td>0</td>\n",
       "      <td>0</td>\n",
       "      <td>0</td>\n",
       "      <td>0</td>\n",
       "      <td>0</td>\n",
       "      <td>0</td>\n",
       "      <td>17</td>\n",
       "      <td>0</td>\n",
       "      <td>0</td>\n",
       "    </tr>\n",
       "    <tr>\n",
       "      <th>828621</th>\n",
       "      <td>20201124033000</td>\n",
       "      <td>24997</td>\n",
       "      <td>04.22.1778</td>\n",
       "      <td>0.0</td>\n",
       "      <td>0</td>\n",
       "      <td>0.0</td>\n",
       "      <td>0</td>\n",
       "      <td>0</td>\n",
       "      <td>3</td>\n",
       "      <td>0</td>\n",
       "      <td>0</td>\n",
       "      <td>0</td>\n",
       "      <td>0</td>\n",
       "      <td>17</td>\n",
       "      <td>0</td>\n",
       "      <td>0</td>\n",
       "    </tr>\n",
       "    <tr>\n",
       "      <th>828622</th>\n",
       "      <td>20201124033000</td>\n",
       "      <td>24997</td>\n",
       "      <td>04.22.1778</td>\n",
       "      <td>0.0</td>\n",
       "      <td>0</td>\n",
       "      <td>0.0</td>\n",
       "      <td>0</td>\n",
       "      <td>0</td>\n",
       "      <td>0</td>\n",
       "      <td>0</td>\n",
       "      <td>0</td>\n",
       "      <td>0</td>\n",
       "      <td>0</td>\n",
       "      <td>17</td>\n",
       "      <td>0</td>\n",
       "      <td>0</td>\n",
       "    </tr>\n",
       "    <tr>\n",
       "      <th>828623</th>\n",
       "      <td>20201124033000</td>\n",
       "      <td>24997</td>\n",
       "      <td>04.22.1778</td>\n",
       "      <td>0.0</td>\n",
       "      <td>0</td>\n",
       "      <td>0.0</td>\n",
       "      <td>0</td>\n",
       "      <td>0</td>\n",
       "      <td>9</td>\n",
       "      <td>0</td>\n",
       "      <td>0</td>\n",
       "      <td>0</td>\n",
       "      <td>0</td>\n",
       "      <td>17</td>\n",
       "      <td>0</td>\n",
       "      <td>0</td>\n",
       "    </tr>\n",
       "  </tbody>\n",
       "</table>\n",
       "<p>828624 rows × 16 columns</p>\n",
       "</div>"
      ],
      "text/plain": [
       "                  time  user_id       fwver  quality_0  quality_1  quality_2  \\\n",
       "0       20201129090000    10000  05.15.2138        0.0          0        0.0   \n",
       "1       20201129090000    10000  05.15.2138        0.0          0        0.0   \n",
       "2       20201129090000    10000  05.15.2138        0.0          0        0.0   \n",
       "3       20201129090000    10000  05.15.2138        0.0          0        0.0   \n",
       "4       20201129090000    10000  05.15.2138        0.0          0        0.0   \n",
       "...                ...      ...         ...        ...        ...        ...   \n",
       "828619  20201124033000    24997  04.22.1778        0.0          0        0.0   \n",
       "828620  20201124033000    24997  04.22.1778        0.0          0        0.0   \n",
       "828621  20201124033000    24997  04.22.1778        0.0          0        0.0   \n",
       "828622  20201124033000    24997  04.22.1778        0.0          0        0.0   \n",
       "828623  20201124033000    24997  04.22.1778        0.0          0        0.0   \n",
       "\n",
       "        quality_3  quality_4 quality_5  quality_6 quality_7 quality_8  \\\n",
       "0               0          0         0          0         0         0   \n",
       "1               0          0         0          0         0         0   \n",
       "2               0          0         0          0         0         0   \n",
       "3               0          0         0          0         0         0   \n",
       "4               0          0         0          0         0         0   \n",
       "...           ...        ...       ...        ...       ...       ...   \n",
       "828619          0          0         1          0         0         0   \n",
       "828620          0          0         0          0         0         0   \n",
       "828621          0          0         3          0         0         0   \n",
       "828622          0          0         0          0         0         0   \n",
       "828623          0          0         9          0         0         0   \n",
       "\n",
       "       quality_9 quality_10  quality_11  quality_12  \n",
       "0              0          4           0           0  \n",
       "1              0          4           0           0  \n",
       "2              0          4           0           0  \n",
       "3              0          4           0           0  \n",
       "4              0          4           0           0  \n",
       "...          ...        ...         ...         ...  \n",
       "828619         0         17           0           0  \n",
       "828620         0         17           0           0  \n",
       "828621         0         17           0           0  \n",
       "828622         0         17           0           0  \n",
       "828623         0         17           0           0  \n",
       "\n",
       "[828624 rows x 16 columns]"
      ]
     },
     "execution_count": 12,
     "metadata": {},
     "output_type": "execute_result"
    }
   ],
   "source": [
    "# 시스템 퀄리티 로그\n",
    "quality=pd.read_csv('./data/train_quality_data.csv')\n",
    "quality"
   ]
  },
  {
   "cell_type": "code",
   "execution_count": 13,
   "metadata": {},
   "outputs": [
    {
     "name": "stdout",
     "output_type": "stream",
     "text": [
      "<class 'pandas.core.frame.DataFrame'>\n",
      "RangeIndex: 828624 entries, 0 to 828623\n",
      "Data columns (total 16 columns):\n",
      " #   Column      Non-Null Count   Dtype  \n",
      "---  ------      --------------   -----  \n",
      " 0   time        828624 non-null  int64  \n",
      " 1   user_id     828624 non-null  int64  \n",
      " 2   fwver       788544 non-null  object \n",
      " 3   quality_0   684192 non-null  float64\n",
      " 4   quality_1   828624 non-null  int64  \n",
      " 5   quality_2   788511 non-null  float64\n",
      " 6   quality_3   828624 non-null  int64  \n",
      " 7   quality_4   828624 non-null  int64  \n",
      " 8   quality_5   828604 non-null  object \n",
      " 9   quality_6   828624 non-null  int64  \n",
      " 10  quality_7   828624 non-null  object \n",
      " 11  quality_8   828624 non-null  object \n",
      " 12  quality_9   828624 non-null  object \n",
      " 13  quality_10  828624 non-null  object \n",
      " 14  quality_11  828624 non-null  int64  \n",
      " 15  quality_12  828624 non-null  int64  \n",
      "dtypes: float64(2), int64(8), object(6)\n",
      "memory usage: 101.2+ MB\n"
     ]
    }
   ],
   "source": [
    "quality.info()"
   ]
  },
  {
   "cell_type": "markdown",
   "metadata": {},
   "source": [
    "- **fwver**, **quality_0**, **quality_2**,**quality_5** 데이터만 NaN값존재"
   ]
  },
  {
   "cell_type": "code",
   "execution_count": 69,
   "metadata": {},
   "outputs": [
    {
     "data": {
      "text/plain": [
       "3        99828\n",
       "2        81732\n",
       "0        59028\n",
       "1        58152\n",
       "4        54948\n",
       "         ...  \n",
       "57027       12\n",
       "1240        12\n",
       "6536        12\n",
       "2777        12\n",
       "2047        12\n",
       "Name: quality_10, Length: 4200, dtype: int64"
      ]
     },
     "execution_count": 69,
     "metadata": {},
     "output_type": "execute_result"
    }
   ],
   "source": [
    "quality['quality_10'].value_counts()"
   ]
  },
  {
   "cell_type": "code",
   "execution_count": 101,
   "metadata": {},
   "outputs": [],
   "source": [
    "quality['time']=pd.to_datetime(quality['time'],format='%Y%m%d%H%M%S')"
   ]
  },
  {
   "cell_type": "code",
   "execution_count": 16,
   "metadata": {},
   "outputs": [],
   "source": [
    "quality['quality_7']=quality['quality_7'].astype('str')\n",
    "quality['quality_8']=quality['quality_8'].astype('str')\n",
    "quality['quality_9']=quality['quality_9'].astype('str')"
   ]
  },
  {
   "cell_type": "code",
   "execution_count": 17,
   "metadata": {},
   "outputs": [],
   "source": [
    "# str 타입의 quality 컬럼들은 int형으로 바꿔준다.\n",
    "# 이때 NaN 값은 데이터 보기위해 우선은 0으로 처리한다.quality_0, quality_2,quality_5\n",
    "quality=quality.fillna('0')\n",
    "quality['quality_5']=quality['quality_5'].str.replace(',','').astype('int')\n",
    "quality['quality_7']=quality['quality_7'].str.replace(',','').astype('int')\n",
    "quality['quality_8']=quality['quality_8'].str.replace(',','').astype('int')\n",
    "quality['quality_9']=quality['quality_9'].str.replace(',','').astype('int')\n",
    "quality['quality_10']=quality['quality_10'].str.replace(',','').astype('int')"
   ]
  },
  {
   "cell_type": "code",
   "execution_count": 18,
   "metadata": {},
   "outputs": [
    {
     "data": {
      "text/html": [
       "<div>\n",
       "<style scoped>\n",
       "    .dataframe tbody tr th:only-of-type {\n",
       "        vertical-align: middle;\n",
       "    }\n",
       "\n",
       "    .dataframe tbody tr th {\n",
       "        vertical-align: top;\n",
       "    }\n",
       "\n",
       "    .dataframe thead th {\n",
       "        text-align: right;\n",
       "    }\n",
       "</style>\n",
       "<table border=\"1\" class=\"dataframe\">\n",
       "  <thead>\n",
       "    <tr style=\"text-align: right;\">\n",
       "      <th></th>\n",
       "      <th>time</th>\n",
       "      <th>user_id</th>\n",
       "      <th>quality_1</th>\n",
       "      <th>quality_3</th>\n",
       "      <th>quality_4</th>\n",
       "      <th>quality_5</th>\n",
       "      <th>quality_6</th>\n",
       "      <th>quality_7</th>\n",
       "      <th>quality_8</th>\n",
       "      <th>quality_9</th>\n",
       "      <th>quality_10</th>\n",
       "      <th>quality_11</th>\n",
       "      <th>quality_12</th>\n",
       "    </tr>\n",
       "  </thead>\n",
       "  <tbody>\n",
       "    <tr>\n",
       "      <th>count</th>\n",
       "      <td>8.286240e+05</td>\n",
       "      <td>828624.000000</td>\n",
       "      <td>828624.000000</td>\n",
       "      <td>828624.0</td>\n",
       "      <td>828624.0</td>\n",
       "      <td>828624.000000</td>\n",
       "      <td>828624.000000</td>\n",
       "      <td>828624.000000</td>\n",
       "      <td>828624.000000</td>\n",
       "      <td>828624.000000</td>\n",
       "      <td>8.286240e+05</td>\n",
       "      <td>828624.000000</td>\n",
       "      <td>828624.000000</td>\n",
       "    </tr>\n",
       "    <tr>\n",
       "      <th>mean</th>\n",
       "      <td>2.020112e+13</td>\n",
       "      <td>17574.678315</td>\n",
       "      <td>-0.171782</td>\n",
       "      <td>0.0</td>\n",
       "      <td>0.0</td>\n",
       "      <td>74.531372</td>\n",
       "      <td>2.043391</td>\n",
       "      <td>26.744106</td>\n",
       "      <td>0.163732</td>\n",
       "      <td>56.344233</td>\n",
       "      <td>8.965973e+02</td>\n",
       "      <td>-0.181638</td>\n",
       "      <td>0.045878</td>\n",
       "    </tr>\n",
       "    <tr>\n",
       "      <th>std</th>\n",
       "      <td>8.863638e+06</td>\n",
       "      <td>4374.113554</td>\n",
       "      <td>0.692386</td>\n",
       "      <td>0.0</td>\n",
       "      <td>0.0</td>\n",
       "      <td>2278.634120</td>\n",
       "      <td>32.695380</td>\n",
       "      <td>317.874778</td>\n",
       "      <td>5.154260</td>\n",
       "      <td>3280.350150</td>\n",
       "      <td>1.652103e+04</td>\n",
       "      <td>0.397767</td>\n",
       "      <td>0.302452</td>\n",
       "    </tr>\n",
       "    <tr>\n",
       "      <th>min</th>\n",
       "      <td>2.020103e+13</td>\n",
       "      <td>10000.000000</td>\n",
       "      <td>-1.000000</td>\n",
       "      <td>0.0</td>\n",
       "      <td>0.0</td>\n",
       "      <td>-1.000000</td>\n",
       "      <td>-1.000000</td>\n",
       "      <td>0.000000</td>\n",
       "      <td>0.000000</td>\n",
       "      <td>0.000000</td>\n",
       "      <td>0.000000e+00</td>\n",
       "      <td>-1.000000</td>\n",
       "      <td>0.000000</td>\n",
       "    </tr>\n",
       "    <tr>\n",
       "      <th>25%</th>\n",
       "      <td>2.020111e+13</td>\n",
       "      <td>13685.000000</td>\n",
       "      <td>0.000000</td>\n",
       "      <td>0.0</td>\n",
       "      <td>0.0</td>\n",
       "      <td>0.000000</td>\n",
       "      <td>0.000000</td>\n",
       "      <td>0.000000</td>\n",
       "      <td>0.000000</td>\n",
       "      <td>0.000000</td>\n",
       "      <td>3.000000e+00</td>\n",
       "      <td>0.000000</td>\n",
       "      <td>0.000000</td>\n",
       "    </tr>\n",
       "    <tr>\n",
       "      <th>50%</th>\n",
       "      <td>2.020112e+13</td>\n",
       "      <td>17597.000000</td>\n",
       "      <td>0.000000</td>\n",
       "      <td>0.0</td>\n",
       "      <td>0.0</td>\n",
       "      <td>0.000000</td>\n",
       "      <td>0.000000</td>\n",
       "      <td>0.000000</td>\n",
       "      <td>0.000000</td>\n",
       "      <td>0.000000</td>\n",
       "      <td>6.000000e+00</td>\n",
       "      <td>0.000000</td>\n",
       "      <td>0.000000</td>\n",
       "    </tr>\n",
       "    <tr>\n",
       "      <th>75%</th>\n",
       "      <td>2.020112e+13</td>\n",
       "      <td>21423.000000</td>\n",
       "      <td>0.000000</td>\n",
       "      <td>0.0</td>\n",
       "      <td>0.0</td>\n",
       "      <td>1.000000</td>\n",
       "      <td>0.000000</td>\n",
       "      <td>0.000000</td>\n",
       "      <td>0.000000</td>\n",
       "      <td>0.000000</td>\n",
       "      <td>3.900000e+01</td>\n",
       "      <td>0.000000</td>\n",
       "      <td>0.000000</td>\n",
       "    </tr>\n",
       "    <tr>\n",
       "      <th>max</th>\n",
       "      <td>2.020113e+13</td>\n",
       "      <td>24997.000000</td>\n",
       "      <td>171.000000</td>\n",
       "      <td>0.0</td>\n",
       "      <td>0.0</td>\n",
       "      <td>637385.000000</td>\n",
       "      <td>600.000000</td>\n",
       "      <td>7200.000000</td>\n",
       "      <td>1317.000000</td>\n",
       "      <td>397424.000000</td>\n",
       "      <td>1.910175e+06</td>\n",
       "      <td>14.000000</td>\n",
       "      <td>14.000000</td>\n",
       "    </tr>\n",
       "  </tbody>\n",
       "</table>\n",
       "</div>"
      ],
      "text/plain": [
       "               time        user_id      quality_1  quality_3  quality_4  \\\n",
       "count  8.286240e+05  828624.000000  828624.000000   828624.0   828624.0   \n",
       "mean   2.020112e+13   17574.678315      -0.171782        0.0        0.0   \n",
       "std    8.863638e+06    4374.113554       0.692386        0.0        0.0   \n",
       "min    2.020103e+13   10000.000000      -1.000000        0.0        0.0   \n",
       "25%    2.020111e+13   13685.000000       0.000000        0.0        0.0   \n",
       "50%    2.020112e+13   17597.000000       0.000000        0.0        0.0   \n",
       "75%    2.020112e+13   21423.000000       0.000000        0.0        0.0   \n",
       "max    2.020113e+13   24997.000000     171.000000        0.0        0.0   \n",
       "\n",
       "           quality_5      quality_6      quality_7      quality_8  \\\n",
       "count  828624.000000  828624.000000  828624.000000  828624.000000   \n",
       "mean       74.531372       2.043391      26.744106       0.163732   \n",
       "std      2278.634120      32.695380     317.874778       5.154260   \n",
       "min        -1.000000      -1.000000       0.000000       0.000000   \n",
       "25%         0.000000       0.000000       0.000000       0.000000   \n",
       "50%         0.000000       0.000000       0.000000       0.000000   \n",
       "75%         1.000000       0.000000       0.000000       0.000000   \n",
       "max    637385.000000     600.000000    7200.000000    1317.000000   \n",
       "\n",
       "           quality_9    quality_10     quality_11     quality_12  \n",
       "count  828624.000000  8.286240e+05  828624.000000  828624.000000  \n",
       "mean       56.344233  8.965973e+02      -0.181638       0.045878  \n",
       "std      3280.350150  1.652103e+04       0.397767       0.302452  \n",
       "min         0.000000  0.000000e+00      -1.000000       0.000000  \n",
       "25%         0.000000  3.000000e+00       0.000000       0.000000  \n",
       "50%         0.000000  6.000000e+00       0.000000       0.000000  \n",
       "75%         0.000000  3.900000e+01       0.000000       0.000000  \n",
       "max    397424.000000  1.910175e+06      14.000000      14.000000  "
      ]
     },
     "execution_count": 18,
     "metadata": {},
     "output_type": "execute_result"
    }
   ],
   "source": [
    "quality.describe()"
   ]
  },
  {
   "cell_type": "code",
   "execution_count": 28,
   "metadata": {},
   "outputs": [
    {
     "data": {
      "text/plain": [
       "(array([1.53649e+05, 6.70270e+05, 2.56700e+03, 1.14000e+03, 3.91000e+02,\n",
       "        2.02000e+02, 1.34000e+02, 7.10000e+01, 5.00000e+01, 3.50000e+01,\n",
       "        2.60000e+01, 2.40000e+01, 1.20000e+01, 7.00000e+00, 6.00000e+00,\n",
       "        5.00000e+00, 3.00000e+00, 3.00000e+00, 3.00000e+00, 5.00000e+00]),\n",
       " array([-1,  0,  1,  2,  3,  4,  5,  6,  7,  8,  9, 10, 11, 12, 13, 14, 15,\n",
       "        16, 17, 18, 19]),\n",
       " <BarContainer object of 20 artists>)"
      ]
     },
     "execution_count": 28,
     "metadata": {},
     "output_type": "execute_result"
    },
    {
     "data": {
      "image/png": "[encoded data removed]",
      "text/plain": [
       "<Figure size 432x288 with 1 Axes>"
      ]
     },
     "metadata": {},
     "output_type": "display_data"
    }
   ],
   "source": [
    "# 데이터의 분포도 보기\n",
    "\n",
    "#grid setting\n",
    "grid_list = [i for i in range(-1, 20)]\n",
    "\n",
    "# 2-2. plotting\n",
    "plt.hist(quality['quality_1'],grid_list,color = \"lightgrey\", edgecolor = \"black\")"
   ]
  },
  {
   "cell_type": "code",
   "execution_count": 23,
   "metadata": {},
   "outputs": [
    {
     "data": {
      "text/plain": [
       "(array([8.28481e+05, 1.02000e+02, 3.10000e+01, 2.00000e+00, 4.00000e+00,\n",
       "        0.00000e+00, 0.00000e+00, 0.00000e+00, 0.00000e+00, 4.00000e+00]),\n",
       " array([-1.000000e+00,  6.373760e+04,  1.274762e+05,  1.912148e+05,\n",
       "         2.549534e+05,  3.186920e+05,  3.824306e+05,  4.461692e+05,\n",
       "         5.099078e+05,  5.736464e+05,  6.373850e+05]),\n",
       " <BarContainer object of 10 artists>)"
      ]
     },
     "execution_count": 23,
     "metadata": {},
     "output_type": "execute_result"
    },
    {
     "data": {
      "image/png": "[encoded data removed]",
      "text/plain": [
       "<Figure size 432x288 with 1 Axes>"
      ]
     },
     "metadata": {},
     "output_type": "display_data"
    }
   ],
   "source": [
    "# 2-2. plotting\n",
    "plt.hist(quality['quality_5'],color = \"lightgrey\", edgecolor = \"black\")"
   ]
  },
  {
   "cell_type": "code",
   "execution_count": 77,
   "metadata": {},
   "outputs": [
    {
     "data": {
      "text/plain": [
       "(array([0.00000e+00, 8.01156e+05, 2.08800e+04, 4.52400e+03, 1.32000e+03,\n",
       "        3.12000e+02, 1.92000e+02, 1.08000e+02, 2.40000e+01, 4.80000e+01,\n",
       "        0.00000e+00, 1.20000e+01, 1.20000e+01, 1.20000e+01, 1.20000e+01,\n",
       "        1.20000e+01, 0.00000e+00, 0.00000e+00, 0.00000e+00, 0.00000e+00,\n",
       "        0.00000e+00, 0.00000e+00, 0.00000e+00, 0.00000e+00, 0.00000e+00,\n",
       "        0.00000e+00, 0.00000e+00, 0.00000e+00, 0.00000e+00, 0.00000e+00,\n",
       "        0.00000e+00, 0.00000e+00, 0.00000e+00, 0.00000e+00, 0.00000e+00,\n",
       "        0.00000e+00, 0.00000e+00, 0.00000e+00, 0.00000e+00, 0.00000e+00,\n",
       "        0.00000e+00, 0.00000e+00, 0.00000e+00, 0.00000e+00, 0.00000e+00,\n",
       "        0.00000e+00, 0.00000e+00, 0.00000e+00, 0.00000e+00, 0.00000e+00,\n",
       "        0.00000e+00, 0.00000e+00, 0.00000e+00, 0.00000e+00, 0.00000e+00,\n",
       "        0.00000e+00, 0.00000e+00, 0.00000e+00, 0.00000e+00, 0.00000e+00,\n",
       "        0.00000e+00, 0.00000e+00, 0.00000e+00, 0.00000e+00, 0.00000e+00,\n",
       "        0.00000e+00, 0.00000e+00, 0.00000e+00, 0.00000e+00, 0.00000e+00,\n",
       "        0.00000e+00, 0.00000e+00, 0.00000e+00, 0.00000e+00, 0.00000e+00,\n",
       "        0.00000e+00, 0.00000e+00, 0.00000e+00, 0.00000e+00, 0.00000e+00,\n",
       "        0.00000e+00, 0.00000e+00, 0.00000e+00, 0.00000e+00, 0.00000e+00,\n",
       "        0.00000e+00, 0.00000e+00, 0.00000e+00, 0.00000e+00, 0.00000e+00,\n",
       "        0.00000e+00, 0.00000e+00, 0.00000e+00, 0.00000e+00, 0.00000e+00,\n",
       "        0.00000e+00, 0.00000e+00, 0.00000e+00, 0.00000e+00, 0.00000e+00]),\n",
       " array([-1,  0,  1,  2,  3,  4,  5,  6,  7,  8,  9, 10, 11, 12, 13, 14, 15,\n",
       "        16, 17, 18, 19, 20, 21, 22, 23, 24, 25, 26, 27, 28, 29, 30, 31, 32,\n",
       "        33, 34, 35, 36, 37, 38, 39, 40, 41, 42, 43, 44, 45, 46, 47, 48, 49,\n",
       "        50, 51, 52, 53, 54, 55, 56, 57, 58, 59, 60, 61, 62, 63, 64, 65, 66,\n",
       "        67, 68, 69, 70, 71, 72, 73, 74, 75, 76, 77, 78, 79, 80, 81, 82, 83,\n",
       "        84, 85, 86, 87, 88, 89, 90, 91, 92, 93, 94, 95, 96, 97, 98, 99]),\n",
       " <BarContainer object of 100 artists>)"
      ]
     },
     "execution_count": 77,
     "metadata": {},
     "output_type": "execute_result"
    },
    {
     "data": {
      "image/png": "[encoded data removed]",
      "text/plain": [
       "<Figure size 432x288 with 1 Axes>"
      ]
     },
     "metadata": {},
     "output_type": "display_data"
    }
   ],
   "source": [
    "grid_list = [i for i in range(-1, 100)]\n",
    "plt.hist(quality['quality_12'],grid_list,color = \"lightgrey\", edgecolor = \"black\")"
   ]
  },
  {
   "cell_type": "code",
   "execution_count": 67,
   "metadata": {},
   "outputs": [
    {
     "data": {
      "text/plain": [
       "28123"
      ]
     },
     "execution_count": 67,
     "metadata": {},
     "output_type": "execute_result"
    }
   ],
   "source": [
    "(quality['quality_5']>100).sum()"
   ]
  },
  {
   "cell_type": "code",
   "execution_count": 25,
   "metadata": {},
   "outputs": [
    {
     "data": {
      "text/plain": [
       "(array([8.28168e+05, 1.68000e+02, 1.08000e+02, 7.20000e+01, 2.40000e+01,\n",
       "        6.00000e+01, 1.20000e+01, 0.00000e+00, 0.00000e+00, 1.20000e+01]),\n",
       " array([      0. ,  191017.5,  382035. ,  573052.5,  764070. ,  955087.5,\n",
       "        1146105. , 1337122.5, 1528140. , 1719157.5, 1910175. ]),\n",
       " <BarContainer object of 10 artists>)"
      ]
     },
     "execution_count": 25,
     "metadata": {},
     "output_type": "execute_result"
    },
    {
     "data": {
      "image/png": "[encoded data removed]",
      "text/plain": [
       "<Figure size 432x288 with 1 Axes>"
      ]
     },
     "metadata": {},
     "output_type": "display_data"
    }
   ],
   "source": [
    "# 2-2. plotting\n",
    "plt.hist(quality['quality_10'],color = \"lightgrey\", edgecolor = \"black\")"
   ]
  },
  {
   "cell_type": "code",
   "execution_count": 66,
   "metadata": {},
   "outputs": [
    {
     "data": {
      "text/plain": [
       "(array([    0., 59028., 58152., 81732., 99828., 54948., 40812., 32220.,\n",
       "        24036., 19212., 15756., 12600., 11916., 10308.,  8604.,  7584.,\n",
       "         7368.,  6240.,  5364.,  5784.,  4800.,  4488.,  4764.,  4044.,\n",
       "         3984.,  3588.,  3228.,  3396.,  3060.,  3012.,  2880.,  2508.,\n",
       "         2436.,  2220.,  1920.,  2028.,  1860.,  1692.,  2100.,  1788.,\n",
       "         1536.,  1476.,  1452.,  1404.,  1284.,  1404.,  1392.,  1596.,\n",
       "         1452.,  1416.,  1056.,  1296.,  1332.,  1152.,  1020.,  1260.,\n",
       "         1320.,  1080.,  1164.,  1068.,  1056.,   996.,   888.,  1080.,\n",
       "          996.,   972.,   840.,   804.,   780.,   876.,   864.,   720.,\n",
       "          900.,   912.,  1068.,   780.,   948.,   816.,   696.,   768.,\n",
       "          792.,   756.,   696.,   756.,   720.,   660.,   624.,   672.,\n",
       "          840.,   756.,   624.,   540.,   672.,   576.,   564.,   720.,\n",
       "          588.,   624.,   552.,  1212.]),\n",
       " array([-1,  0,  1,  2,  3,  4,  5,  6,  7,  8,  9, 10, 11, 12, 13, 14, 15,\n",
       "        16, 17, 18, 19, 20, 21, 22, 23, 24, 25, 26, 27, 28, 29, 30, 31, 32,\n",
       "        33, 34, 35, 36, 37, 38, 39, 40, 41, 42, 43, 44, 45, 46, 47, 48, 49,\n",
       "        50, 51, 52, 53, 54, 55, 56, 57, 58, 59, 60, 61, 62, 63, 64, 65, 66,\n",
       "        67, 68, 69, 70, 71, 72, 73, 74, 75, 76, 77, 78, 79, 80, 81, 82, 83,\n",
       "        84, 85, 86, 87, 88, 89, 90, 91, 92, 93, 94, 95, 96, 97, 98, 99]),\n",
       " <BarContainer object of 100 artists>)"
      ]
     },
     "execution_count": 66,
     "metadata": {},
     "output_type": "execute_result"
    },
    {
     "data": {
      "image/png": "[encoded data removed]",
      "text/plain": [
       "<Figure size 432x288 with 1 Axes>"
      ]
     },
     "metadata": {},
     "output_type": "display_data"
    }
   ],
   "source": [
    "# 2-2. plotting\n",
    "grid_list = [i for i in range(-1, 100)]\n",
    "plt.hist(quality['quality_10'],grid_list,color = \"lightgrey\", edgecolor = \"black\")"
   ]
  },
  {
   "cell_type": "code",
   "execution_count": null,
   "metadata": {},
   "outputs": [],
   "source": [
    "# 2-2. plotting\n",
    "plt.hist(quality['quality_6'],color = \"lightgrey\", edgecolor = \"black\")"
   ]
  },
  {
   "cell_type": "markdown",
   "metadata": {},
   "source": [
    "<br>\n",
    "\n",
    "### 각 데이터의 점수가 100이상인 데이터."
   ]
  },
  {
   "cell_type": "code",
   "execution_count": 63,
   "metadata": {},
   "outputs": [
    {
     "name": "stdout",
     "output_type": "stream",
     "text": [
      "8\n",
      "1293\n",
      "0\n",
      "0\n",
      "28123\n",
      "3705\n",
      "16980\n",
      "24\n",
      "7272\n",
      "148896\n",
      "0\n",
      "0\n"
     ]
    }
   ],
   "source": [
    "print((quality['quality_1']>100).sum())\n",
    "print((quality['quality_2']>100).sum())\n",
    "print((quality['quality_3']>100).sum())\n",
    "print((quality['quality_4']>100).sum())\n",
    "print((quality['quality_5']>100).sum())\n",
    "print((quality['quality_6']>100).sum())\n",
    "print((quality['quality_7']>100).sum())\n",
    "print((quality['quality_8']>100).sum())\n",
    "print((quality['quality_9']>100).sum())\n",
    "print((quality['quality_10']>100).sum())\n",
    "print((quality['quality_11']>100).sum())\n",
    "print((quality['quality_12']>100).sum())"
   ]
  },
  {
   "cell_type": "code",
   "execution_count": 40,
   "metadata": {},
   "outputs": [
    {
     "data": {
      "text/plain": [
       "array(['05.15.2138', '04.22.1750', '04.16.3553', '04.33.1261',\n",
       "       '04.22.1778', '04.33.1185', '04.16.3571', '05.66.3571',\n",
       "       '03.11.1149', '03.11.1167', '04.82.1684', '04.82.1778',\n",
       "       '04.33.1149', nan, '05.66.3237', '04.73.2237', '09.17.1431',\n",
       "       '04.22.1684', '05.15.2120', '04.33.1125', '05.15.2122',\n",
       "       '04.22.1666', '04.22.1656', '04.16.3439', '04.73.2571',\n",
       "       '05.15.2114', '04.16.3345', '04.22.1442'], dtype=object)"
      ]
     },
     "execution_count": 40,
     "metadata": {},
     "output_type": "execute_result"
    }
   ],
   "source": [
    "quality['fwver'].unique()"
   ]
  },
  {
   "cell_type": "code",
   "execution_count": 39,
   "metadata": {},
   "outputs": [
    {
     "data": {
      "text/plain": [
       "array([ True,  True,  True,  True,  True,  True,  True,  True,  True,\n",
       "        True,  True,  True,  True, False,  True,  True, False,  True,\n",
       "        True,  True,  True,  True,  True,  True,  True,  True,  True,\n",
       "        True])"
      ]
     },
     "execution_count": 39,
     "metadata": {},
     "output_type": "execute_result"
    }
   ],
   "source": [
    "np.isin(quality['fwver'].unique(),err['fwver'].unique())"
   ]
  },
  {
   "cell_type": "code",
   "execution_count": 89,
   "metadata": {},
   "outputs": [
    {
     "data": {
      "text/plain": [
       "array(['04.33.1171', '10', '04.82.1730', '8.5.3', '03.11.1141',\n",
       "       '04.33.1095', '04.16.3569', '05.15.2090', '05.15.3104',\n",
       "       '04.16.2641', '05.15.2092'], dtype=object)"
      ]
     },
     "execution_count": 89,
     "metadata": {},
     "output_type": "execute_result"
    }
   ],
   "source": [
    "err['fwver'].unique()[~np.isin(err['fwver'].unique(),quality['fwver'].unique())]"
   ]
  },
  {
   "cell_type": "markdown",
   "metadata": {},
   "source": [
    "- '09.17.1431' 데이터는 err['fwver']에는 없는 펌웨어 버전"
   ]
  },
  {
   "cell_type": "code",
   "execution_count": 38,
   "metadata": {},
   "outputs": [
    {
     "data": {
      "text/html": [
       "<div>\n",
       "<style scoped>\n",
       "    .dataframe tbody tr th:only-of-type {\n",
       "        vertical-align: middle;\n",
       "    }\n",
       "\n",
       "    .dataframe tbody tr th {\n",
       "        vertical-align: top;\n",
       "    }\n",
       "\n",
       "    .dataframe thead th {\n",
       "        text-align: right;\n",
       "    }\n",
       "</style>\n",
       "<table border=\"1\" class=\"dataframe\">\n",
       "  <thead>\n",
       "    <tr style=\"text-align: right;\">\n",
       "      <th></th>\n",
       "      <th>user_id</th>\n",
       "      <th>time</th>\n",
       "    </tr>\n",
       "  </thead>\n",
       "  <tbody>\n",
       "    <tr>\n",
       "      <th>0</th>\n",
       "      <td>19224</td>\n",
       "      <td>20201102200000</td>\n",
       "    </tr>\n",
       "    <tr>\n",
       "      <th>1</th>\n",
       "      <td>23664</td>\n",
       "      <td>20201116140000</td>\n",
       "    </tr>\n",
       "    <tr>\n",
       "      <th>2</th>\n",
       "      <td>15166</td>\n",
       "      <td>20201114130000</td>\n",
       "    </tr>\n",
       "    <tr>\n",
       "      <th>3</th>\n",
       "      <td>12590</td>\n",
       "      <td>20201108210000</td>\n",
       "    </tr>\n",
       "    <tr>\n",
       "      <th>4</th>\n",
       "      <td>15932</td>\n",
       "      <td>20201103210000</td>\n",
       "    </tr>\n",
       "    <tr>\n",
       "      <th>...</th>\n",
       "      <td>...</td>\n",
       "      <td>...</td>\n",
       "    </tr>\n",
       "    <tr>\n",
       "      <th>5424</th>\n",
       "      <td>20167</td>\n",
       "      <td>20201125120000</td>\n",
       "    </tr>\n",
       "    <tr>\n",
       "      <th>5425</th>\n",
       "      <td>16270</td>\n",
       "      <td>20201110120000</td>\n",
       "    </tr>\n",
       "    <tr>\n",
       "      <th>5426</th>\n",
       "      <td>19114</td>\n",
       "      <td>20201106230000</td>\n",
       "    </tr>\n",
       "    <tr>\n",
       "      <th>5427</th>\n",
       "      <td>21505</td>\n",
       "      <td>20201104110000</td>\n",
       "    </tr>\n",
       "    <tr>\n",
       "      <th>5428</th>\n",
       "      <td>18822</td>\n",
       "      <td>20201102120000</td>\n",
       "    </tr>\n",
       "  </tbody>\n",
       "</table>\n",
       "<p>5429 rows × 2 columns</p>\n",
       "</div>"
      ],
      "text/plain": [
       "      user_id            time\n",
       "0       19224  20201102200000\n",
       "1       23664  20201116140000\n",
       "2       15166  20201114130000\n",
       "3       12590  20201108210000\n",
       "4       15932  20201103210000\n",
       "...       ...             ...\n",
       "5424    20167  20201125120000\n",
       "5425    16270  20201110120000\n",
       "5426    19114  20201106230000\n",
       "5427    21505  20201104110000\n",
       "5428    18822  20201102120000\n",
       "\n",
       "[5429 rows x 2 columns]"
      ]
     },
     "execution_count": 38,
     "metadata": {},
     "output_type": "execute_result"
    }
   ],
   "source": [
    "# 사용자 불만 및 불만이 접수된 시간\n",
    "problem=pd.read_csv('./data/train_problem_data.csv')\n",
    "problem"
   ]
  },
  {
   "cell_type": "code",
   "execution_count": 39,
   "metadata": {},
   "outputs": [
    {
     "data": {
      "text/plain": [
       "5000"
      ]
     },
     "execution_count": 39,
     "metadata": {},
     "output_type": "execute_result"
    }
   ],
   "source": [
    "# 불만을 접수한 user_id의 개수\n",
    "len(problem['user_id'].unique())"
   ]
  },
  {
   "cell_type": "code",
   "execution_count": 40,
   "metadata": {},
   "outputs": [
    {
     "data": {
      "text/plain": [
       "24407    5\n",
       "11016    4\n",
       "20636    4\n",
       "11528    4\n",
       "24138    4\n",
       "        ..\n",
       "19613    1\n",
       "19739    1\n",
       "13596    1\n",
       "15645    1\n",
       "14311    1\n",
       "Name: user_id, Length: 5000, dtype: int64"
      ]
     },
     "execution_count": 40,
     "metadata": {},
     "output_type": "execute_result"
    }
   ],
   "source": [
    "problem['user_id'].value_counts()"
   ]
  },
  {
   "cell_type": "markdown",
   "metadata": {},
   "source": [
    "- 가장 많은 불만을 접수한 건수는 5건이 된다.\n",
    "- 대부분 중복으로 많은 접수를 하지 않음."
   ]
  },
  {
   "cell_type": "code",
   "execution_count": 41,
   "metadata": {},
   "outputs": [
    {
     "data": {
      "text/plain": [
       "20201130230000"
      ]
     },
     "execution_count": 41,
     "metadata": {},
     "output_type": "execute_result"
    }
   ],
   "source": [
    "problem['time'].max()"
   ]
  },
  {
   "cell_type": "code",
   "execution_count": 42,
   "metadata": {},
   "outputs": [
    {
     "data": {
      "text/plain": [
       "20201101000000"
      ]
     },
     "execution_count": 42,
     "metadata": {},
     "output_type": "execute_result"
    }
   ],
   "source": [
    "problem['time'].min()"
   ]
  },
  {
   "cell_type": "code",
   "execution_count": 46,
   "metadata": {},
   "outputs": [],
   "source": [
    "pd.to_datetime?"
   ]
  },
  {
   "cell_type": "code",
   "execution_count": 49,
   "metadata": {},
   "outputs": [],
   "source": [
    "problem['time']=pd.to_datetime(problem['time'],format='%Y%m%d%H%M%S')"
   ]
  },
  {
   "cell_type": "code",
   "execution_count": 84,
   "metadata": {},
   "outputs": [],
   "source": [
    "dt_index = pd.date_range(start='20201101000000', end='20201130230000')"
   ]
  },
  {
   "cell_type": "code",
   "execution_count": 85,
   "metadata": {},
   "outputs": [
    {
     "data": {
      "text/plain": [
       "DatetimeIndex(['2020-11-01', '2020-11-02', '2020-11-03', '2020-11-04',\n",
       "               '2020-11-05', '2020-11-06', '2020-11-07', '2020-11-08',\n",
       "               '2020-11-09', '2020-11-10', '2020-11-11', '2020-11-12',\n",
       "               '2020-11-13', '2020-11-14', '2020-11-15', '2020-11-16',\n",
       "               '2020-11-17', '2020-11-18', '2020-11-19', '2020-11-20',\n",
       "               '2020-11-21', '2020-11-22', '2020-11-23', '2020-11-24',\n",
       "               '2020-11-25', '2020-11-26', '2020-11-27', '2020-11-28',\n",
       "               '2020-11-29', '2020-11-30'],\n",
       "              dtype='datetime64[ns]', freq='D')"
      ]
     },
     "execution_count": 85,
     "metadata": {},
     "output_type": "execute_result"
    }
   ],
   "source": [
    "dt_index"
   ]
  },
  {
   "cell_type": "code",
   "execution_count": 86,
   "metadata": {},
   "outputs": [
    {
     "data": {
      "text/plain": [
       "(array([ 70., 280., 190., 197., 189., 195.,  84.,  59., 256., 220., 225.,\n",
       "        188., 194.,  98.,  57., 246., 188., 216., 233., 252., 133.,  78.,\n",
       "        263., 211., 230., 199., 212., 116.,  67.]),\n",
       " array([18567., 18568., 18569., 18570., 18571., 18572., 18573., 18574.,\n",
       "        18575., 18576., 18577., 18578., 18579., 18580., 18581., 18582.,\n",
       "        18583., 18584., 18585., 18586., 18587., 18588., 18589., 18590.,\n",
       "        18591., 18592., 18593., 18594., 18595., 18596.]),\n",
       " <BarContainer object of 29 artists>)"
      ]
     },
     "execution_count": 86,
     "metadata": {},
     "output_type": "execute_result"
    },
    {
     "data": {
      "image/png": "[encoded data removed]",
      "text/plain": [
       "<Figure size 432x288 with 1 Axes>"
      ]
     },
     "metadata": {},
     "output_type": "display_data"
    }
   ],
   "source": [
    "#grid_list = [i for i in range(20201101000000, 20201130230000,10000)]\n",
    "plt.hist(problem['time'],dt_index,color = \"lightgrey\", edgecolor = \"black\")"
   ]
  },
  {
   "cell_type": "code",
   "execution_count": null,
   "metadata": {},
   "outputs": [],
   "source": []
  }
 ],
 "metadata": {
  "kernelspec": {
   "display_name": "pydatavenv",
   "language": "python",
   "name": "pydatavenv"
  },
  "language_info": {
   "codemirror_mode": {
    "name": "ipython",
    "version": 3
   },
   "file_extension": ".py",
   "mimetype": "text/x-python",
   "name": "python",
   "nbconvert_exporter": "python",
   "pygments_lexer": "ipython3",
   "version": "3.7.9"
  }
 },
 "nbformat": 4,
 "nbformat_minor": 4
}
